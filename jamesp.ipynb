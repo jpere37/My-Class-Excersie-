{
  "nbformat": 4,
  "nbformat_minor": 0,
  "metadata": {
    "colab": {
      "provenance": [],
      "authorship_tag": "ABX9TyP3wqA1pKVQ08QTXuHbsY29",
      "include_colab_link": true
    },
    "kernelspec": {
      "name": "python3",
      "display_name": "Python 3"
    },
    "language_info": {
      "name": "python"
    }
  },
  "cells": [
    {
      "cell_type": "markdown",
      "metadata": {
        "id": "view-in-github",
        "colab_type": "text"
      },
      "source": [
        "<a href=\"https://colab.research.google.com/github/jpere37/My-Class-Excersie-/blob/main/jamesp.ipynb\" target=\"_parent\"><img src=\"https://colab.research.google.com/assets/colab-badge.svg\" alt=\"Open In Colab\"/></a>"
      ]
    },
    {
      "cell_type": "code",
      "execution_count": null,
      "metadata": {
        "colab": {
          "base_uri": "https://localhost:8080/"
        },
        "id": "gsSPXzJhIXwM",
        "outputId": "612bba79-b078-48ba-ebe0-598902684588"
      },
      "outputs": [
        {
          "output_type": "stream",
          "name": "stdout",
          "text": [
            "today is 2022-08-23\n"
          ]
        }
      ],
      "source": [
        "import datetime as dt\n",
        "today=dt.date.today()\n",
        "print ('today is', today)"
      ]
    },
    {
      "cell_type": "code",
      "source": [
        "yourName=input()\n",
        "print(yourName, end='')\n",
        "print (':weclome')"
      ],
      "metadata": {
        "colab": {
          "base_uri": "https://localhost:8080/"
        },
        "id": "HVp8MKfcP5T0",
        "outputId": "20a2a6b3-66ed-4f6c-fea8-937b32fc0337"
      },
      "execution_count": 1,
      "outputs": [
        {
          "output_type": "stream",
          "name": "stdout",
          "text": [
            "James\n",
            "James:weclome\n"
          ]
        }
      ]
    },
    {
      "cell_type": "code",
      "source": [
        "bDay=int(input('What day of the month were you born in:'))\n",
        "bMonth=int(input('what month were you born in:'))\n",
        "bYear=int(input('what year were you born in:'))\n",
        "\n",
        "BD=dt.date(bYear, bMonth, bDay)\n",
        "\n",
        "print('you were born on:',BD.strftime('%A %B %d %Y'))"
      ],
      "metadata": {
        "colab": {
          "base_uri": "https://localhost:8080/"
        },
        "id": "AJQ2TJ3GPqfD",
        "outputId": "ab28b551-3e03-460b-e95f-26a37ecc1b9e"
      },
      "execution_count": null,
      "outputs": [
        {
          "output_type": "stream",
          "name": "stdout",
          "text": [
            "What day of the month were you born in:20\n",
            "what month were you born in:06\n",
            "what year were you born in:2004\n",
            "you were born on: Sunday June 20 2004\n"
          ]
        }
      ]
    },
    {
      "cell_type": "code",
      "source": [
        "!pip install pyowm"
      ],
      "metadata": {
        "colab": {
          "base_uri": "https://localhost:8080/"
        },
        "id": "mrF7aKBoht3E",
        "outputId": "a8a5eba9-0888-4af3-d741-7926fc0ba200"
      },
      "execution_count": null,
      "outputs": [
        {
          "output_type": "stream",
          "name": "stdout",
          "text": [
            "Looking in indexes: https://pypi.org/simple, https://us-python.pkg.dev/colab-wheels/public/simple/\n",
            "Collecting pyowm\n",
            "  Downloading pyowm-3.3.0-py3-none-any.whl (4.5 MB)\n",
            "\u001b[K     |████████████████████████████████| 4.5 MB 5.4 MB/s \n",
            "\u001b[?25hRequirement already satisfied: requests[socks] in /usr/local/lib/python3.7/dist-packages (from pyowm) (2.23.0)\n",
            "Collecting geojson<3,>=2.3.0\n",
            "  Downloading geojson-2.5.0-py2.py3-none-any.whl (14 kB)\n",
            "Requirement already satisfied: PySocks<2,>=1.7.1 in /usr/local/lib/python3.7/dist-packages (from pyowm) (1.7.1)\n",
            "Requirement already satisfied: idna<3,>=2.5 in /usr/local/lib/python3.7/dist-packages (from requests[socks]->pyowm) (2.10)\n",
            "Requirement already satisfied: chardet<4,>=3.0.2 in /usr/local/lib/python3.7/dist-packages (from requests[socks]->pyowm) (3.0.4)\n",
            "Requirement already satisfied: urllib3!=1.25.0,!=1.25.1,<1.26,>=1.21.1 in /usr/local/lib/python3.7/dist-packages (from requests[socks]->pyowm) (1.24.3)\n",
            "Requirement already satisfied: certifi>=2017.4.17 in /usr/local/lib/python3.7/dist-packages (from requests[socks]->pyowm) (2022.6.15)\n",
            "Installing collected packages: geojson, pyowm\n",
            "Successfully installed geojson-2.5.0 pyowm-3.3.0\n"
          ]
        }
      ]
    },
    {
      "cell_type": "code",
      "source": [
        "print('hello world')"
      ],
      "metadata": {
        "colab": {
          "base_uri": "https://localhost:8080/"
        },
        "id": "RMT_glr8SMMw",
        "outputId": "b8cf78ea-4de9-429f-86a6-4019135bc7d1"
      },
      "execution_count": 2,
      "outputs": [
        {
          "output_type": "stream",
          "name": "stdout",
          "text": [
            "hello world\n"
          ]
        }
      ]
    },
    {
      "cell_type": "code",
      "source": [
        "print('hello \\n world')"
      ],
      "metadata": {
        "colab": {
          "base_uri": "https://localhost:8080/"
        },
        "id": "HM9l5S6_SScm",
        "outputId": "3fb97dd9-e51e-4a56-868a-6e813a9fff55"
      },
      "execution_count": 4,
      "outputs": [
        {
          "output_type": "stream",
          "name": "stdout",
          "text": [
            "hello \n",
            " world\n"
          ]
        }
      ]
    },
    {
      "cell_type": "code",
      "source": [
        "width=float(input('What is the width of the rectangle:' ))\n",
        "length=float(input('What is the length of the rectangle:'))\n",
        "\n",
        "area=width* length\n",
        "perimeter=2*(width+length)\n",
        "\n",
        "print('The area of the rectangle is:', area)\n",
        "print('The perimeter of the rectangle is:', perimeter)"
      ],
      "metadata": {
        "colab": {
          "base_uri": "https://localhost:8080/"
        },
        "id": "LaNyPQJWTwIJ",
        "outputId": "475d22d6-9397-47dd-ca5a-6d80ccac0280"
      },
      "execution_count": 12,
      "outputs": [
        {
          "output_type": "stream",
          "name": "stdout",
          "text": [
            "What is the width of the rectangle:1.4\n",
            "What is the length of the rectangle:5.6\n",
            "The area of the rectangle is: 7.839999999999999\n",
            "The perimeter of the rectangle is: 14.0\n"
          ]
        }
      ]
    },
    {
      "cell_type": "code",
      "source": [
        "weight=float(input('What is your weight in ibs:'))\n",
        "height=float(input('What is your height in inches:'))\n",
        "\n",
        "BMI(weight/(height*height))*703\n",
        "\n",
        "print('the BMI of you with weight{:.2f} and height {:.1f} is {:.3f} \\n'.format(weight, height, BM) )"
      ],
      "metadata": {
        "id": "u7BfxxCeaUr8"
      },
      "execution_count": null,
      "outputs": []
    }
  ]
}