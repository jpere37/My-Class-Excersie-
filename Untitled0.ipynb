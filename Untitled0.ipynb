{
  "nbformat": 4,
  "nbformat_minor": 0,
  "metadata": {
    "colab": {
      "name": "Untitled0.ipynb",
      "provenance": [],
      "authorship_tag": "ABX9TyMxSrtgU62A0mFO/WqTdu5E",
      "include_colab_link": true
    },
    "kernelspec": {
      "name": "python3",
      "display_name": "Python 3"
    },
    "language_info": {
      "name": "python"
    }
  },
  "cells": [
    {
      "cell_type": "markdown",
      "metadata": {
        "id": "view-in-github",
        "colab_type": "text"
      },
      "source": [
        "<a href=\"https://colab.research.google.com/github/jpere37/My-Class-Excersie-/blob/main/Untitled0.ipynb\" target=\"_parent\"><img src=\"https://colab.research.google.com/assets/colab-badge.svg\" alt=\"Open In Colab\"/></a>"
      ]
    },
    {
      "cell_type": "code",
      "execution_count": 1,
      "metadata": {
        "colab": {
          "base_uri": "https://localhost:8080/"
        },
        "id": "SN5V1ryAiL80",
        "outputId": "398a60ea-c94f-4c6e-e8e6-32fc5b3c1464"
      },
      "outputs": [
        {
          "output_type": "stream",
          "name": "stdout",
          "text": [
            "Looking in indexes: https://pypi.org/simple, https://us-python.pkg.dev/colab-wheels/public/simple/\n",
            "Collecting pyowm\n",
            "  Downloading pyowm-3.3.0-py3-none-any.whl (4.5 MB)\n",
            "\u001b[K     |████████████████████████████████| 4.5 MB 4.9 MB/s \n",
            "\u001b[?25hRequirement already satisfied: requests[socks] in /usr/local/lib/python3.7/dist-packages (from pyowm) (2.23.0)\n",
            "Requirement already satisfied: PySocks<2,>=1.7.1 in /usr/local/lib/python3.7/dist-packages (from pyowm) (1.7.1)\n",
            "Collecting geojson<3,>=2.3.0\n",
            "  Downloading geojson-2.5.0-py2.py3-none-any.whl (14 kB)\n",
            "Requirement already satisfied: idna<3,>=2.5 in /usr/local/lib/python3.7/dist-packages (from requests[socks]->pyowm) (2.10)\n",
            "Requirement already satisfied: certifi>=2017.4.17 in /usr/local/lib/python3.7/dist-packages (from requests[socks]->pyowm) (2022.6.15)\n",
            "Requirement already satisfied: chardet<4,>=3.0.2 in /usr/local/lib/python3.7/dist-packages (from requests[socks]->pyowm) (3.0.4)\n",
            "Requirement already satisfied: urllib3!=1.25.0,!=1.25.1,<1.26,>=1.21.1 in /usr/local/lib/python3.7/dist-packages (from requests[socks]->pyowm) (1.24.3)\n",
            "Installing collected packages: geojson, pyowm\n",
            "Successfully installed geojson-2.5.0 pyowm-3.3.0\n"
          ]
        }
      ],
      "source": [
        "!pip install pyowm"
      ]
    },
    {
      "cell_type": "code",
      "source": [
        "from pyowm.owm import OWM\n",
        "\n",
        "myKey='ac5879d0a4f9ee5ff33dc90970c27a61'\n",
        "owm=OWM(myKey)\n",
        "wmg=owm.weather_manager()"
      ],
      "metadata": {
        "id": "enJy2SPQiagr"
      },
      "execution_count": 3,
      "outputs": []
    },
    {
      "cell_type": "code",
      "source": [
        "city=input('what city would you like to teleport to: ')\n",
        "country=input('what country is the city in: ')\n",
        "citycountry=city+ ', '+country\n",
        "\n",
        "observation=wmg.weather_at_place(citycountry)\n",
        "weather=observation.weather\n",
        "\n",
        "temperature=weather.temperature('fahrenheit')\n",
        "print(temperature)\n",
        "\n",
        "feellike=temperature.get ('feels_like')\n",
        "print(feellike)\n",
        "\n",
        "if feellike < 30:\n",
        "  print ('you need a winter jacket if you want to go on a walk in', citycountry)\n",
        "elif feellike <50:\n",
        "  print('you need a light jacket if you wan to go on walk in', citycountry)\n",
        "elif feellike <70:\n",
        "  print('you may want to dress in layers if you want to go on a walk in', citycountry)\n",
        "else:\n",
        "  print('you can wear your summmer outfit if you want to go on a walk in', citycountry )"
      ],
      "metadata": {
        "colab": {
          "base_uri": "https://localhost:8080/"
        },
        "id": "Gdljz8EYjuAB",
        "outputId": "1057dc67-a3f8-423c-aff3-82508c73436e"
      },
      "execution_count": 9,
      "outputs": [
        {
          "output_type": "stream",
          "name": "stdout",
          "text": [
            "what city would you like to teleport to: \n",
            "what country is the city in: \n",
            "{'temp': 91.44, 'temp_max': 91.44, 'temp_min': 91.44, 'feels_like': 87.3, 'temp_kf': None}\n",
            "87.3\n",
            "you can wear your summmer outfit if you want to go on a walk in , \n"
          ]
        }
      ]
    }
  ]
}